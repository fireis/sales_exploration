{
 "cells": [
  {
   "cell_type": "markdown",
   "metadata": {},
   "source": [
    "# Predição de Demanda\n",
    "\n",
    "Filipe Reis\n",
    "\n",
    "Este decumento retrata o desenvolvimento da predição de demanda para os produtos listados nos meses de Julho, Agosto e Setembro de 2017. A motivação desse surgiu do desafio criado para a vaga de Data Scientist do Luizalabs. \n",
    "\n",
    "Nesse projeto, utilizamos a linguagem Python 3.6 com as seguintes bibliotecas:\n",
    "    - Pandas: para manipulação dos dados;\n",
    "    - Matplotlib e Seaborn: para confecção de visualizações;\n",
    "    - Numpy e Math: para operações matemáticas."
   ]
  },
  {
   "cell_type": "code",
   "execution_count": 1,
   "metadata": {
    "collapsed": true
   },
   "outputs": [],
   "source": [
    "import pandas as pd\n",
    "from matplotlib import pyplot as plt\n",
    "import numpy as np\n",
    "import seaborn as sns\n",
    "import math"
   ]
  },
  {
   "cell_type": "markdown",
   "metadata": {},
   "source": [
    "## Análise preliminar"
   ]
  },
  {
   "cell_type": "markdown",
   "metadata": {},
   "source": [
    "O primeiro passo para analisarmos os dados é carregá-los e notar quais informações temos disponíveis."
   ]
  },
  {
   "cell_type": "code",
   "execution_count": 2,
   "metadata": {},
   "outputs": [
    {
     "name": "stdout",
     "output_type": "stream",
     "text": [
      "Original file shape:\n",
      " Features:14\n",
      " Samples:179149\n"
     ]
    },
    {
     "data": {
      "text/html": [
       "<div>\n",
       "<style>\n",
       "    .dataframe thead tr:only-child th {\n",
       "        text-align: right;\n",
       "    }\n",
       "\n",
       "    .dataframe thead th {\n",
       "        text-align: left;\n",
       "    }\n",
       "\n",
       "    .dataframe tbody tr th {\n",
       "        vertical-align: top;\n",
       "    }\n",
       "</style>\n",
       "<table border=\"1\" class=\"dataframe\">\n",
       "  <thead>\n",
       "    <tr style=\"text-align: right;\">\n",
       "      <th></th>\n",
       "      <th>order_id</th>\n",
       "      <th>code</th>\n",
       "      <th>quantity</th>\n",
       "      <th>price</th>\n",
       "      <th>pis_cofins</th>\n",
       "      <th>icms</th>\n",
       "      <th>tax_substitution</th>\n",
       "      <th>category</th>\n",
       "      <th>liquid_cost</th>\n",
       "      <th>order_status</th>\n",
       "      <th>capture_date</th>\n",
       "      <th>process_date</th>\n",
       "      <th>process_status</th>\n",
       "      <th>source_channel</th>\n",
       "    </tr>\n",
       "  </thead>\n",
       "  <tbody>\n",
       "    <tr>\n",
       "      <th>0</th>\n",
       "      <td>bcb59c839e78b2601374cbad9239ca7b</td>\n",
       "      <td>e6762ba2ffbca07ab6cee7551caeaad5</td>\n",
       "      <td>1</td>\n",
       "      <td>978.90</td>\n",
       "      <td>90.5483</td>\n",
       "      <td>0.0000</td>\n",
       "      <td>191.8416</td>\n",
       "      <td>4ece547755cba9e7fc14125bc895f31b</td>\n",
       "      <td>542.7065</td>\n",
       "      <td>entrega total</td>\n",
       "      <td>2016-06-11</td>\n",
       "      <td>2016-06-11</td>\n",
       "      <td>processado</td>\n",
       "      <td>b76eb9b8fc0f17098812da9117d3e500</td>\n",
       "    </tr>\n",
       "    <tr>\n",
       "      <th>1</th>\n",
       "      <td>4e91ee6b95895771dc9ee524e910a902</td>\n",
       "      <td>e6762ba2ffbca07ab6cee7551caeaad5</td>\n",
       "      <td>1</td>\n",
       "      <td>1036.29</td>\n",
       "      <td>95.8568</td>\n",
       "      <td>176.1693</td>\n",
       "      <td>0.0000</td>\n",
       "      <td>4ece547755cba9e7fc14125bc895f31b</td>\n",
       "      <td>542.7065</td>\n",
       "      <td>em rota de entrega</td>\n",
       "      <td>2016-06-11</td>\n",
       "      <td>2016-06-11</td>\n",
       "      <td>processado</td>\n",
       "      <td>b76eb9b8fc0f17098812da9117d3e500</td>\n",
       "    </tr>\n",
       "    <tr>\n",
       "      <th>2</th>\n",
       "      <td>88eb0ac86af1a521c0831298d22dea8b</td>\n",
       "      <td>e6762ba2ffbca07ab6cee7551caeaad5</td>\n",
       "      <td>1</td>\n",
       "      <td>978.90</td>\n",
       "      <td>90.5483</td>\n",
       "      <td>0.0000</td>\n",
       "      <td>191.8416</td>\n",
       "      <td>4ece547755cba9e7fc14125bc895f31b</td>\n",
       "      <td>542.7065</td>\n",
       "      <td>entrega total</td>\n",
       "      <td>2016-06-12</td>\n",
       "      <td>2016-06-12</td>\n",
       "      <td>processado</td>\n",
       "      <td>b76eb9b8fc0f17098812da9117d3e500</td>\n",
       "    </tr>\n",
       "    <tr>\n",
       "      <th>3</th>\n",
       "      <td>dee418152a36314b4aee6ce9cf94fcbf</td>\n",
       "      <td>e6762ba2ffbca07ab6cee7551caeaad5</td>\n",
       "      <td>1</td>\n",
       "      <td>978.90</td>\n",
       "      <td>90.5483</td>\n",
       "      <td>176.2020</td>\n",
       "      <td>0.0000</td>\n",
       "      <td>4ece547755cba9e7fc14125bc895f31b</td>\n",
       "      <td>542.7065</td>\n",
       "      <td>cancelado</td>\n",
       "      <td>2016-06-13</td>\n",
       "      <td>0000-00-00</td>\n",
       "      <td>captado</td>\n",
       "      <td>b76eb9b8fc0f17098812da9117d3e500</td>\n",
       "    </tr>\n",
       "    <tr>\n",
       "      <th>4</th>\n",
       "      <td>1c175bc61b9b659bbf011b2e5e3dcec6</td>\n",
       "      <td>e6762ba2ffbca07ab6cee7551caeaad5</td>\n",
       "      <td>1</td>\n",
       "      <td>976.05</td>\n",
       "      <td>90.2846</td>\n",
       "      <td>0.0000</td>\n",
       "      <td>192.3325</td>\n",
       "      <td>4ece547755cba9e7fc14125bc895f31b</td>\n",
       "      <td>542.7065</td>\n",
       "      <td>entrega total</td>\n",
       "      <td>2016-06-13</td>\n",
       "      <td>2016-06-13</td>\n",
       "      <td>processado</td>\n",
       "      <td>b76eb9b8fc0f17098812da9117d3e500</td>\n",
       "    </tr>\n",
       "  </tbody>\n",
       "</table>\n",
       "</div>"
      ],
      "text/plain": [
       "                           order_id                              code  \\\n",
       "0  bcb59c839e78b2601374cbad9239ca7b  e6762ba2ffbca07ab6cee7551caeaad5   \n",
       "1  4e91ee6b95895771dc9ee524e910a902  e6762ba2ffbca07ab6cee7551caeaad5   \n",
       "2  88eb0ac86af1a521c0831298d22dea8b  e6762ba2ffbca07ab6cee7551caeaad5   \n",
       "3  dee418152a36314b4aee6ce9cf94fcbf  e6762ba2ffbca07ab6cee7551caeaad5   \n",
       "4  1c175bc61b9b659bbf011b2e5e3dcec6  e6762ba2ffbca07ab6cee7551caeaad5   \n",
       "\n",
       "   quantity    price  pis_cofins      icms  tax_substitution  \\\n",
       "0         1   978.90     90.5483    0.0000          191.8416   \n",
       "1         1  1036.29     95.8568  176.1693            0.0000   \n",
       "2         1   978.90     90.5483    0.0000          191.8416   \n",
       "3         1   978.90     90.5483  176.2020            0.0000   \n",
       "4         1   976.05     90.2846    0.0000          192.3325   \n",
       "\n",
       "                           category  liquid_cost        order_status  \\\n",
       "0  4ece547755cba9e7fc14125bc895f31b     542.7065       entrega total   \n",
       "1  4ece547755cba9e7fc14125bc895f31b     542.7065  em rota de entrega   \n",
       "2  4ece547755cba9e7fc14125bc895f31b     542.7065       entrega total   \n",
       "3  4ece547755cba9e7fc14125bc895f31b     542.7065           cancelado   \n",
       "4  4ece547755cba9e7fc14125bc895f31b     542.7065       entrega total   \n",
       "\n",
       "  capture_date process_date process_status                    source_channel  \n",
       "0   2016-06-11   2016-06-11     processado  b76eb9b8fc0f17098812da9117d3e500  \n",
       "1   2016-06-11   2016-06-11     processado  b76eb9b8fc0f17098812da9117d3e500  \n",
       "2   2016-06-12   2016-06-12     processado  b76eb9b8fc0f17098812da9117d3e500  \n",
       "3   2016-06-13   0000-00-00        captado  b76eb9b8fc0f17098812da9117d3e500  \n",
       "4   2016-06-13   2016-06-13     processado  b76eb9b8fc0f17098812da9117d3e500  "
      ]
     },
     "metadata": {},
     "output_type": "display_data"
    }
   ],
   "source": [
    "orig_file = pd.read_csv('desafio.csv')\n",
    "print('Original file shape:\\n Features:{0}\\n Samples:{1}'.format(orig_file.shape[1], orig_file.shape[0] ))\n",
    "display (orig_file.head(5))"
   ]
  },
  {
   "cell_type": "markdown",
   "metadata": {},
   "source": [
    "Podemos ver que possuimos 179149 entradas, sendo 14 atributos por entrada. Vejamos agora quantos elementos únicos o conjunto de dados apresenta por categoria."
   ]
  },
  {
   "cell_type": "code",
   "execution_count": 3,
   "metadata": {},
   "outputs": [
    {
     "name": "stdout",
     "output_type": "stream",
     "text": [
      "Unique elements count: \n",
      "\n",
      " order_id            175575\n",
      "code                   131\n",
      "quantity                33\n",
      "price                23282\n",
      "pis_cofins           22477\n",
      "icms                 22027\n",
      "tax_substitution     10303\n",
      "category                11\n",
      "liquid_cost             97\n",
      "order_status            17\n",
      "capture_date           366\n",
      "process_date           372\n",
      "process_status           2\n",
      "source_channel          16\n",
      "dtype: int64\n"
     ]
    }
   ],
   "source": [
    "unique_vals = orig_file.apply(pd.Series.nunique)\n",
    "print('Unique elements count: \\n\\n {0}'.format(unique_vals))"
   ]
  },
  {
   "cell_type": "markdown",
   "metadata": {},
   "source": [
    "Percebemos claramente que o identificador das compras apresentou uma variação 2% inferior ao total de entradas, o que significa que 98% das vendas reportadas contemplam apenas um produto e 2% um ou mais.\n",
    "Além disso, vemos 11 categorias distintas, o que pode ser útil para segregar os dados em grupos. \n",
    "Por fim, devemos verificar se algum dos atributos apresenta entradas sem informações:"
   ]
  },
  {
   "cell_type": "code",
   "execution_count": 4,
   "metadata": {},
   "outputs": [
    {
     "data": {
      "text/plain": [
       "source_channel      0\n",
       "process_status      0\n",
       "process_date        0\n",
       "capture_date        0\n",
       "order_status        0\n",
       "liquid_cost         0\n",
       "category            0\n",
       "tax_substitution    0\n",
       "icms                0\n",
       "pis_cofins          0\n",
       "price               0\n",
       "quantity            0\n",
       "code                0\n",
       "order_id            0\n",
       "dtype: int64"
      ]
     },
     "execution_count": 4,
     "metadata": {},
     "output_type": "execute_result"
    }
   ],
   "source": [
    "orig_file.isnull().sum().sort_values(ascending=False)"
   ]
  },
  {
   "cell_type": "markdown",
   "metadata": {},
   "source": [
    "Como todas as entradas apresentam informações para todos os atributos, nenhum processamento extra nesse sentido é necessário."
   ]
  },
  {
   "cell_type": "markdown",
   "metadata": {},
   "source": [
    "## Pré-processamento dos Dados"
   ]
  },
  {
   "cell_type": "markdown",
   "metadata": {},
   "source": [
    "Para uso adequado dos algoritmos de separação e classificação, é necessário convertermos as variáveis textuais em categóricas, já que os algoritmos em questão usualmente não são desenvolvidos para aplicações textuais puras. Porém, essa conversão cria a necessidade de cuidado devido aos dados serem categóricos, e não numéricos. Um exemplo disso é que podemos converter as categoriais textuais em números, porém não podemos afirmar que a categoria referente ao número 10 é maior que a ligada ao número 1.\n",
    "\n",
    "Vamos fazer uma cópia dos dados originais para processá-los mantendo a referência ativa."
   ]
  },
  {
   "cell_type": "code",
   "execution_count": 5,
   "metadata": {},
   "outputs": [
    {
     "data": {
      "text/html": [
       "<div>\n",
       "<style>\n",
       "    .dataframe thead tr:only-child th {\n",
       "        text-align: right;\n",
       "    }\n",
       "\n",
       "    .dataframe thead th {\n",
       "        text-align: left;\n",
       "    }\n",
       "\n",
       "    .dataframe tbody tr th {\n",
       "        vertical-align: top;\n",
       "    }\n",
       "</style>\n",
       "<table border=\"1\" class=\"dataframe\">\n",
       "  <thead>\n",
       "    <tr style=\"text-align: right;\">\n",
       "      <th></th>\n",
       "      <th>order_id</th>\n",
       "      <th>code</th>\n",
       "      <th>quantity</th>\n",
       "      <th>price</th>\n",
       "      <th>pis_cofins</th>\n",
       "      <th>icms</th>\n",
       "      <th>tax_substitution</th>\n",
       "      <th>category</th>\n",
       "      <th>liquid_cost</th>\n",
       "      <th>order_status</th>\n",
       "      <th>capture_date</th>\n",
       "      <th>process_date</th>\n",
       "      <th>process_status</th>\n",
       "      <th>source_channel</th>\n",
       "    </tr>\n",
       "  </thead>\n",
       "  <tbody>\n",
       "    <tr>\n",
       "      <th>0</th>\n",
       "      <td>bcb59c839e78b2601374cbad9239ca7b</td>\n",
       "      <td>e6762ba2ffbca07ab6cee7551caeaad5</td>\n",
       "      <td>1</td>\n",
       "      <td>978.90</td>\n",
       "      <td>90.5483</td>\n",
       "      <td>0.0000</td>\n",
       "      <td>191.8416</td>\n",
       "      <td>4ece547755cba9e7fc14125bc895f31b</td>\n",
       "      <td>542.7065</td>\n",
       "      <td>entrega total</td>\n",
       "      <td>2016-06-11</td>\n",
       "      <td>2016-06-11</td>\n",
       "      <td>processado</td>\n",
       "      <td>b76eb9b8fc0f17098812da9117d3e500</td>\n",
       "    </tr>\n",
       "    <tr>\n",
       "      <th>1</th>\n",
       "      <td>4e91ee6b95895771dc9ee524e910a902</td>\n",
       "      <td>e6762ba2ffbca07ab6cee7551caeaad5</td>\n",
       "      <td>1</td>\n",
       "      <td>1036.29</td>\n",
       "      <td>95.8568</td>\n",
       "      <td>176.1693</td>\n",
       "      <td>0.0000</td>\n",
       "      <td>4ece547755cba9e7fc14125bc895f31b</td>\n",
       "      <td>542.7065</td>\n",
       "      <td>em rota de entrega</td>\n",
       "      <td>2016-06-11</td>\n",
       "      <td>2016-06-11</td>\n",
       "      <td>processado</td>\n",
       "      <td>b76eb9b8fc0f17098812da9117d3e500</td>\n",
       "    </tr>\n",
       "    <tr>\n",
       "      <th>2</th>\n",
       "      <td>88eb0ac86af1a521c0831298d22dea8b</td>\n",
       "      <td>e6762ba2ffbca07ab6cee7551caeaad5</td>\n",
       "      <td>1</td>\n",
       "      <td>978.90</td>\n",
       "      <td>90.5483</td>\n",
       "      <td>0.0000</td>\n",
       "      <td>191.8416</td>\n",
       "      <td>4ece547755cba9e7fc14125bc895f31b</td>\n",
       "      <td>542.7065</td>\n",
       "      <td>entrega total</td>\n",
       "      <td>2016-06-12</td>\n",
       "      <td>2016-06-12</td>\n",
       "      <td>processado</td>\n",
       "      <td>b76eb9b8fc0f17098812da9117d3e500</td>\n",
       "    </tr>\n",
       "    <tr>\n",
       "      <th>3</th>\n",
       "      <td>dee418152a36314b4aee6ce9cf94fcbf</td>\n",
       "      <td>e6762ba2ffbca07ab6cee7551caeaad5</td>\n",
       "      <td>1</td>\n",
       "      <td>978.90</td>\n",
       "      <td>90.5483</td>\n",
       "      <td>176.2020</td>\n",
       "      <td>0.0000</td>\n",
       "      <td>4ece547755cba9e7fc14125bc895f31b</td>\n",
       "      <td>542.7065</td>\n",
       "      <td>cancelado</td>\n",
       "      <td>2016-06-13</td>\n",
       "      <td>0000-00-00</td>\n",
       "      <td>captado</td>\n",
       "      <td>b76eb9b8fc0f17098812da9117d3e500</td>\n",
       "    </tr>\n",
       "    <tr>\n",
       "      <th>4</th>\n",
       "      <td>1c175bc61b9b659bbf011b2e5e3dcec6</td>\n",
       "      <td>e6762ba2ffbca07ab6cee7551caeaad5</td>\n",
       "      <td>1</td>\n",
       "      <td>976.05</td>\n",
       "      <td>90.2846</td>\n",
       "      <td>0.0000</td>\n",
       "      <td>192.3325</td>\n",
       "      <td>4ece547755cba9e7fc14125bc895f31b</td>\n",
       "      <td>542.7065</td>\n",
       "      <td>entrega total</td>\n",
       "      <td>2016-06-13</td>\n",
       "      <td>2016-06-13</td>\n",
       "      <td>processado</td>\n",
       "      <td>b76eb9b8fc0f17098812da9117d3e500</td>\n",
       "    </tr>\n",
       "  </tbody>\n",
       "</table>\n",
       "</div>"
      ],
      "text/plain": [
       "                           order_id                              code  \\\n",
       "0  bcb59c839e78b2601374cbad9239ca7b  e6762ba2ffbca07ab6cee7551caeaad5   \n",
       "1  4e91ee6b95895771dc9ee524e910a902  e6762ba2ffbca07ab6cee7551caeaad5   \n",
       "2  88eb0ac86af1a521c0831298d22dea8b  e6762ba2ffbca07ab6cee7551caeaad5   \n",
       "3  dee418152a36314b4aee6ce9cf94fcbf  e6762ba2ffbca07ab6cee7551caeaad5   \n",
       "4  1c175bc61b9b659bbf011b2e5e3dcec6  e6762ba2ffbca07ab6cee7551caeaad5   \n",
       "\n",
       "   quantity    price  pis_cofins      icms  tax_substitution  \\\n",
       "0         1   978.90     90.5483    0.0000          191.8416   \n",
       "1         1  1036.29     95.8568  176.1693            0.0000   \n",
       "2         1   978.90     90.5483    0.0000          191.8416   \n",
       "3         1   978.90     90.5483  176.2020            0.0000   \n",
       "4         1   976.05     90.2846    0.0000          192.3325   \n",
       "\n",
       "                           category  liquid_cost        order_status  \\\n",
       "0  4ece547755cba9e7fc14125bc895f31b     542.7065       entrega total   \n",
       "1  4ece547755cba9e7fc14125bc895f31b     542.7065  em rota de entrega   \n",
       "2  4ece547755cba9e7fc14125bc895f31b     542.7065       entrega total   \n",
       "3  4ece547755cba9e7fc14125bc895f31b     542.7065           cancelado   \n",
       "4  4ece547755cba9e7fc14125bc895f31b     542.7065       entrega total   \n",
       "\n",
       "  capture_date process_date process_status                    source_channel  \n",
       "0   2016-06-11   2016-06-11     processado  b76eb9b8fc0f17098812da9117d3e500  \n",
       "1   2016-06-11   2016-06-11     processado  b76eb9b8fc0f17098812da9117d3e500  \n",
       "2   2016-06-12   2016-06-12     processado  b76eb9b8fc0f17098812da9117d3e500  \n",
       "3   2016-06-13   0000-00-00        captado  b76eb9b8fc0f17098812da9117d3e500  \n",
       "4   2016-06-13   2016-06-13     processado  b76eb9b8fc0f17098812da9117d3e500  "
      ]
     },
     "metadata": {},
     "output_type": "display_data"
    }
   ],
   "source": [
    "processed_data = orig_file\n",
    "display(processed_data.head(5))"
   ]
  },
  {
   "cell_type": "markdown",
   "metadata": {},
   "source": [
    "### Análises individuais"
   ]
  },
  {
   "cell_type": "markdown",
   "metadata": {},
   "source": [
    "A categoria status do pedido parece ser irrelevante para nosso propósito. Para confirmar, vejamos quais valores são encontrados nela:"
   ]
  },
  {
   "cell_type": "code",
   "execution_count": 6,
   "metadata": {},
   "outputs": [
    {
     "data": {
      "text/plain": [
       "array(['entrega total', 'em rota de entrega', 'cancelado',\n",
       "       'cancelado boleto não pago', 'solicitação de troca', 'processado',\n",
       "       'solicitação de cancelamento', 'entrega parcial',\n",
       "       'suspenso barragem', 'cancelado dados divergentes',\n",
       "       'disponível para retirada.', 'fraude confirmada',\n",
       "       'cancelado fraude confirmada', 'suspeita de fraude',\n",
       "       'em rota de devolução', 'pendente processamento',\n",
       "       'cancelado não aprovado'], dtype=object)"
      ]
     },
     "execution_count": 6,
     "metadata": {},
     "output_type": "execute_result"
    }
   ],
   "source": [
    "processed_data['order_status'].unique()"
   ]
  },
  {
   "cell_type": "markdown",
   "metadata": {},
   "source": [
    "Como as informações contidas nessa variável são referentes a pagamento e entrega dos produtos, não a consideraremos na análise. Outra opção seria a de descartar amostras com status como \"fraude confirmada\", já que esses casos podem desviar nossas análises da realidade, embora mesmo que essas vendas não sejam finalizadas, o estoque precisa estar disponível da mesma forma."
   ]
  },
  {
   "cell_type": "code",
   "execution_count": 7,
   "metadata": {
    "collapsed": true
   },
   "outputs": [],
   "source": [
    "processed_data.drop('order_status', axis=1, inplace=True)"
   ]
  },
  {
   "cell_type": "markdown",
   "metadata": {},
   "source": [
    "Em relação à data de realização do pedido, o banco de dados oferece tanto a data de processamento quanto a de captura. Como queremos garantir que o produto esteja em estoque para que possa ser comprado, utilizaremos apenas a data de realização da compra. A data de processamento poderia ser utilizada se quiséssemos, por exemplo, verificar a performance do sistema de vendas e entrega. "
   ]
  },
  {
   "cell_type": "code",
   "execution_count": 8,
   "metadata": {
    "collapsed": true
   },
   "outputs": [],
   "source": [
    "processed_data.drop('process_date', axis=1, inplace=True) \n",
    "processed_data.capture_date = pd.to_datetime(processed_data['capture_date'])"
   ]
  },
  {
   "cell_type": "markdown",
   "metadata": {},
   "source": [
    "Já em relação ao identificador da ordem, poderíamos utilizá-lo para verificar se existem produtos que são sempre comprados em conjunto, logo possuem o mesmo comportamento. \n",
    "Porém, tanto o identificador da ordem quanto o código e a categoria são variáveis textuais, então converteremos elas para numéricas categóricas."
   ]
  },
  {
   "cell_type": "code",
   "execution_count": 9,
   "metadata": {
    "collapsed": true
   },
   "outputs": [],
   "source": [
    "processed_data['order_id'] =  pd.Categorical(processed_data['order_id'])\n",
    "processed_data.order_id = processed_data.order_id.cat.codes\n",
    "processed_data['code'] =  pd.Categorical(processed_data['code'])\n",
    "processed_data.code = processed_data.code.cat.codes\n",
    "processed_data['category'] =  pd.Categorical(processed_data['category'])\n",
    "processed_data.category = processed_data.category.cat.codes"
   ]
  },
  {
   "cell_type": "markdown",
   "metadata": {},
   "source": [
    "Outra opção parea lidar com dados categóricos seria criar colunas extras para cada categoria, onde 0 indicaria que o produto não pertence à ela e 1 que pertence. "
   ]
  },
  {
   "cell_type": "code",
   "execution_count": 10,
   "metadata": {
    "collapsed": true
   },
   "outputs": [],
   "source": [
    "#processed_data = pd.get_dummies(processed_data, columns=['category', 'process_status', 'source_channel'])"
   ]
  },
  {
   "cell_type": "markdown",
   "metadata": {
    "collapsed": true
   },
   "source": [
    "Para tentarmos extrair mais informação do nosso banco de dados, podemos converter as datas para dias da semana. Esse novo atributo pode agregar informação ao modelo pois podemos ter produtos que são mais comprados em um determiando dia da semana."
   ]
  },
  {
   "cell_type": "code",
   "execution_count": 11,
   "metadata": {
    "collapsed": true
   },
   "outputs": [],
   "source": [
    "processed_data['day_of_week'] = processed_data['capture_date'].dt.dayofweek"
   ]
  },
  {
   "cell_type": "markdown",
   "metadata": {},
   "source": [
    "Vejamos nosso nossas variáveis resultantes."
   ]
  },
  {
   "cell_type": "code",
   "execution_count": 12,
   "metadata": {},
   "outputs": [
    {
     "data": {
      "text/html": [
       "<div>\n",
       "<style>\n",
       "    .dataframe thead tr:only-child th {\n",
       "        text-align: right;\n",
       "    }\n",
       "\n",
       "    .dataframe thead th {\n",
       "        text-align: left;\n",
       "    }\n",
       "\n",
       "    .dataframe tbody tr th {\n",
       "        vertical-align: top;\n",
       "    }\n",
       "</style>\n",
       "<table border=\"1\" class=\"dataframe\">\n",
       "  <thead>\n",
       "    <tr style=\"text-align: right;\">\n",
       "      <th></th>\n",
       "      <th>order_id</th>\n",
       "      <th>code</th>\n",
       "      <th>quantity</th>\n",
       "      <th>price</th>\n",
       "      <th>pis_cofins</th>\n",
       "      <th>icms</th>\n",
       "      <th>tax_substitution</th>\n",
       "      <th>category</th>\n",
       "      <th>liquid_cost</th>\n",
       "      <th>capture_date</th>\n",
       "      <th>process_status</th>\n",
       "      <th>source_channel</th>\n",
       "      <th>day_of_week</th>\n",
       "    </tr>\n",
       "  </thead>\n",
       "  <tbody>\n",
       "    <tr>\n",
       "      <th>0</th>\n",
       "      <td>129357</td>\n",
       "      <td>124</td>\n",
       "      <td>1</td>\n",
       "      <td>978.90</td>\n",
       "      <td>90.5483</td>\n",
       "      <td>0.0000</td>\n",
       "      <td>191.8416</td>\n",
       "      <td>1</td>\n",
       "      <td>542.7065</td>\n",
       "      <td>2016-06-11</td>\n",
       "      <td>processado</td>\n",
       "      <td>b76eb9b8fc0f17098812da9117d3e500</td>\n",
       "      <td>5</td>\n",
       "    </tr>\n",
       "    <tr>\n",
       "      <th>1</th>\n",
       "      <td>53810</td>\n",
       "      <td>124</td>\n",
       "      <td>1</td>\n",
       "      <td>1036.29</td>\n",
       "      <td>95.8568</td>\n",
       "      <td>176.1693</td>\n",
       "      <td>0.0000</td>\n",
       "      <td>1</td>\n",
       "      <td>542.7065</td>\n",
       "      <td>2016-06-11</td>\n",
       "      <td>processado</td>\n",
       "      <td>b76eb9b8fc0f17098812da9117d3e500</td>\n",
       "      <td>5</td>\n",
       "    </tr>\n",
       "    <tr>\n",
       "      <th>2</th>\n",
       "      <td>93709</td>\n",
       "      <td>124</td>\n",
       "      <td>1</td>\n",
       "      <td>978.90</td>\n",
       "      <td>90.5483</td>\n",
       "      <td>0.0000</td>\n",
       "      <td>191.8416</td>\n",
       "      <td>1</td>\n",
       "      <td>542.7065</td>\n",
       "      <td>2016-06-12</td>\n",
       "      <td>processado</td>\n",
       "      <td>b76eb9b8fc0f17098812da9117d3e500</td>\n",
       "      <td>6</td>\n",
       "    </tr>\n",
       "    <tr>\n",
       "      <th>3</th>\n",
       "      <td>153070</td>\n",
       "      <td>124</td>\n",
       "      <td>1</td>\n",
       "      <td>978.90</td>\n",
       "      <td>90.5483</td>\n",
       "      <td>176.2020</td>\n",
       "      <td>0.0000</td>\n",
       "      <td>1</td>\n",
       "      <td>542.7065</td>\n",
       "      <td>2016-06-13</td>\n",
       "      <td>captado</td>\n",
       "      <td>b76eb9b8fc0f17098812da9117d3e500</td>\n",
       "      <td>0</td>\n",
       "    </tr>\n",
       "    <tr>\n",
       "      <th>4</th>\n",
       "      <td>19151</td>\n",
       "      <td>124</td>\n",
       "      <td>1</td>\n",
       "      <td>976.05</td>\n",
       "      <td>90.2846</td>\n",
       "      <td>0.0000</td>\n",
       "      <td>192.3325</td>\n",
       "      <td>1</td>\n",
       "      <td>542.7065</td>\n",
       "      <td>2016-06-13</td>\n",
       "      <td>processado</td>\n",
       "      <td>b76eb9b8fc0f17098812da9117d3e500</td>\n",
       "      <td>0</td>\n",
       "    </tr>\n",
       "  </tbody>\n",
       "</table>\n",
       "</div>"
      ],
      "text/plain": [
       "   order_id  code  quantity    price  pis_cofins      icms  tax_substitution  \\\n",
       "0    129357   124         1   978.90     90.5483    0.0000          191.8416   \n",
       "1     53810   124         1  1036.29     95.8568  176.1693            0.0000   \n",
       "2     93709   124         1   978.90     90.5483    0.0000          191.8416   \n",
       "3    153070   124         1   978.90     90.5483  176.2020            0.0000   \n",
       "4     19151   124         1   976.05     90.2846    0.0000          192.3325   \n",
       "\n",
       "   category  liquid_cost capture_date process_status  \\\n",
       "0         1     542.7065   2016-06-11     processado   \n",
       "1         1     542.7065   2016-06-11     processado   \n",
       "2         1     542.7065   2016-06-12     processado   \n",
       "3         1     542.7065   2016-06-13        captado   \n",
       "4         1     542.7065   2016-06-13     processado   \n",
       "\n",
       "                     source_channel  day_of_week  \n",
       "0  b76eb9b8fc0f17098812da9117d3e500            5  \n",
       "1  b76eb9b8fc0f17098812da9117d3e500            5  \n",
       "2  b76eb9b8fc0f17098812da9117d3e500            6  \n",
       "3  b76eb9b8fc0f17098812da9117d3e500            0  \n",
       "4  b76eb9b8fc0f17098812da9117d3e500            0  "
      ]
     },
     "metadata": {},
     "output_type": "display_data"
    }
   ],
   "source": [
    "display(processed_data.head(5))"
   ]
  },
  {
   "cell_type": "markdown",
   "metadata": {},
   "source": [
    "## Exploração e Tratamento dos Dados"
   ]
  },
  {
   "cell_type": "markdown",
   "metadata": {},
   "source": [
    "É provável que cada produto tenha sua característica peculiar, porém uma análise por categoria é muito valiosa, não apenas por representar um comportamento médio, mas também para fornecer uma base para novos produtos. "
   ]
  },
  {
   "cell_type": "markdown",
   "metadata": {},
   "source": [
    "### Produto Individual"
   ]
  },
  {
   "cell_type": "markdown",
   "metadata": {},
   "source": [
    "Vejamos o comportamento de 1 produto isolado:"
   ]
  },
  {
   "cell_type": "code",
   "execution_count": 13,
   "metadata": {},
   "outputs": [
    {
     "data": {
      "image/png": "[encoded data removed]",
      "text/plain": [
       "<matplotlib.figure.Figure at 0x7fd85e86eac8>"
      ]
     },
     "metadata": {},
     "output_type": "display_data"
    }
   ],
   "source": [
    "code1 = processed_data[processed_data['code'] == 1]\n",
    "plt.plot(code1.capture_date, code1.quantity)\n",
    "plt.show()"
   ]
  },
  {
   "cell_type": "markdown",
   "metadata": {},
   "source": [
    "Podemos perceber que analisarmos a quantidade de venda com base apenas nos dias em que ocorreram vendas não é muito eficaz. Uma opção melhor é considerar um período de tempo maior, já que assim agregamos mais vendas, afastando a média de vendas do 0. "
   ]
  },
  {
   "cell_type": "markdown",
   "metadata": {},
   "source": [
    "### Categoria"
   ]
  },
  {
   "cell_type": "markdown",
   "metadata": {},
   "source": [
    "Vejamos que tipo de informação a variável categoria pode nos fornecer."
   ]
  },
  {
   "cell_type": "code",
   "execution_count": 14,
   "metadata": {},
   "outputs": [
    {
     "data": {
      "text/plain": [
       "category\n",
       "0     153943\n",
       "1         64\n",
       "2         71\n",
       "3        200\n",
       "4       5208\n",
       "5        330\n",
       "6      18009\n",
       "7         58\n",
       "8        140\n",
       "9       1053\n",
       "10        73\n",
       "dtype: int64"
      ]
     },
     "metadata": {},
     "output_type": "display_data"
    }
   ],
   "source": [
    "display(processed_data.groupby(['category']).size())"
   ]
  },
  {
   "cell_type": "markdown",
   "metadata": {},
   "source": [
    "Vemos que a categoria 0 possui muito mais elementos que as demais. Isso pode tanto significar que muitos produtos não estão categorizados ou que essa categoria é de fato muito comum. Vejamos mais informações sobre os produtos considerados por categoria."
   ]
  },
  {
   "cell_type": "code",
   "execution_count": 15,
   "metadata": {},
   "outputs": [
    {
     "name": "stdout",
     "output_type": "stream",
     "text": [
      "Category n:0 \t Sales:153943\t Different PIDs:106\t Mean Price:224.28 \t Std Price:156.88 \t Price Var.:0.70\n",
      "Category n:1 \t Sales:64\t Different PIDs:2\t Mean Price:847.40 \t Std Price:292.37 \t Price Var.:0.35\n",
      "Category n:2 \t Sales:71\t Different PIDs:2\t Mean Price:844.85 \t Std Price:95.21 \t Price Var.:0.11\n",
      "Category n:3 \t Sales:200\t Different PIDs:1\t Mean Price:26.39 \t Std Price:7.31 \t Price Var.:0.28\n",
      "Category n:4 \t Sales:5208\t Different PIDs:8\t Mean Price:553.18 \t Std Price:424.41 \t Price Var.:0.77\n",
      "Category n:5 \t Sales:330\t Different PIDs:3\t Mean Price:159.51 \t Std Price:107.61 \t Price Var.:0.67\n",
      "Category n:6 \t Sales:18009\t Different PIDs:2\t Mean Price:228.69 \t Std Price:208.22 \t Price Var.:0.91\n",
      "Category n:7 \t Sales:58\t Different PIDs:1\t Mean Price:74.31 \t Std Price:33.74 \t Price Var.:0.45\n",
      "Category n:8 \t Sales:140\t Different PIDs:1\t Mean Price:7.68 \t Std Price:1.41 \t Price Var.:0.18\n",
      "Category n:9 \t Sales:1053\t Different PIDs:2\t Mean Price:313.11 \t Std Price:305.95 \t Price Var.:0.98\n",
      "Category n:10 \t Sales:73\t Different PIDs:3\t Mean Price:40.92 \t Std Price:11.93 \t Price Var.:0.29\n"
     ]
    }
   ],
   "source": [
    "for cat, group in processed_data.groupby(['category']):\n",
    "    g_mean = group.price.mean()\n",
    "    g_std = group.price.std()\n",
    "    g_var = g_std / g_mean\n",
    "    \n",
    "    print('Category n:{0} \\t Sales:{1}\\t Different PIDs:{2}\\t Mean Price:{3:.2f} \\t Std Price:{4:.2f} \\t Price Var.:{5:.2f}'.format(\n",
    "                                                cat, group.shape[0], group.code.nunique(), g_mean, g_std, g_var))"
   ]
  },
  {
   "cell_type": "markdown",
   "metadata": {},
   "source": [
    "Podemos perceber que a variação nos preços para quase todas as categorias é bem alta. Isso pode tanto indicar que essas categorias não separam produtos por classes quanto que esses índices segregam as mercadorias por classe mas em uma mesma classe temos produtos muito diferentes. Um exemplo disso seria uma máquina de lavar, que pode custar tanto 700 quanto 7000 reais."
   ]
  },
  {
   "cell_type": "markdown",
   "metadata": {},
   "source": [
    "### Agrupamento por meses"
   ]
  },
  {
   "cell_type": "markdown",
   "metadata": {},
   "source": [
    "Como nossas previsões serão baseadas em vendas mensais, podemos converter as entradas individualmente consideradas para vendas ao longo de meses. Para tanto, confirmemos quais meses estão representados no banco de dados."
   ]
  },
  {
   "cell_type": "code",
   "execution_count": 16,
   "metadata": {},
   "outputs": [
    {
     "name": "stdout",
     "output_type": "stream",
     "text": [
      "(2016, 6)\n",
      "(2016, 7)\n",
      "(2016, 8)\n",
      "(2016, 9)\n",
      "(2016, 10)\n",
      "(2016, 11)\n",
      "(2016, 12)\n",
      "(2017, 1)\n",
      "(2017, 2)\n",
      "(2017, 3)\n",
      "(2017, 4)\n",
      "(2017, 5)\n",
      "(2017, 6)\n"
     ]
    }
   ],
   "source": [
    "for month, group in processed_data.groupby([processed_data['capture_date'].dt.year, processed_data['capture_date'].dt.month]):\n",
    "    print(month)"
   ]
  },
  {
   "cell_type": "markdown",
   "metadata": {},
   "source": [
    "Vemos que nossa base de dados contém vendas para desde junho de 2016 até o mesmo mês de 2017. Agora, podemos agrupar as amostras por meses."
   ]
  },
  {
   "cell_type": "code",
   "execution_count": null,
   "metadata": {},
   "outputs": [],
   "source": [
    "def convert_group2line(group, code):\n",
    "    monthly_data = group.groupby([processed_data['capture_date'].dt.year, processed_data['capture_date'].dt.month])\n",
    "    adjusted_data = []\n",
    "    \n",
    "    for month, group in monthly_data:\n",
    "        quantity = group.quantity.sum()\n",
    "        price = group.price.mean()\n",
    "        category = group.category.mean()\n",
    "        liquid_cost = group.liquid_cost.mean()\n",
    "        common_day = group.day_of_week.value_counts().idxmax()\n",
    "        \n",
    "        month_data = {'capture_date':month,'code': code, 'quantity':quantity, 'price': price, \n",
    "                      'category':category, 'liquid_cost':liquid_cost, 'common_day': common_day }\n",
    "        \n",
    "        adjusted_data.append(month_data)\n",
    "    \n",
    "    adjusted_data = pd.DataFrame(adjusted_data)\n",
    "    \n",
    "    return(adjusted_data)\n",
    "\n",
    "monthly_results = pd.DataFrame()\n",
    "\n",
    "for product_id in range(processed_data.code.min(),  processed_data.code.max() + 1 ):\n",
    "    #print('Completed:{0:.2f}%'.format(100*(product_id/(processed_data.code.max() + 1))))\n",
    "\n",
    "    grouped_id = processed_data[processed_data.apply(lambda x: x['code'] == product_id, axis=1)]\n",
    "    product_line = convert_group2line(grouped_id, product_id)\n",
    "    monthly_results = monthly_results.append(product_line, ignore_index = True)\n",
    "\n",
    "monthly_results.to_csv('monthly_results.csv', index=False)\n"
   ]
  },
  {
   "cell_type": "code",
   "execution_count": 17,
   "metadata": {},
   "outputs": [
    {
     "data": {
      "text/html": [
       "<div>\n",
       "<style>\n",
       "    .dataframe thead tr:only-child th {\n",
       "        text-align: right;\n",
       "    }\n",
       "\n",
       "    .dataframe thead th {\n",
       "        text-align: left;\n",
       "    }\n",
       "\n",
       "    .dataframe tbody tr th {\n",
       "        vertical-align: top;\n",
       "    }\n",
       "</style>\n",
       "<table border=\"1\" class=\"dataframe\">\n",
       "  <thead>\n",
       "    <tr style=\"text-align: right;\">\n",
       "      <th></th>\n",
       "      <th>capture_date</th>\n",
       "      <th>category</th>\n",
       "      <th>code</th>\n",
       "      <th>common_day</th>\n",
       "      <th>liquid_cost</th>\n",
       "      <th>price</th>\n",
       "      <th>quantity</th>\n",
       "    </tr>\n",
       "  </thead>\n",
       "  <tbody>\n",
       "    <tr>\n",
       "      <th>0</th>\n",
       "      <td>2016-11-01</td>\n",
       "      <td>0.0</td>\n",
       "      <td>0</td>\n",
       "      <td>4</td>\n",
       "      <td>117.082</td>\n",
       "      <td>209.098118</td>\n",
       "      <td>881</td>\n",
       "    </tr>\n",
       "    <tr>\n",
       "      <th>1</th>\n",
       "      <td>2016-12-01</td>\n",
       "      <td>0.0</td>\n",
       "      <td>0</td>\n",
       "      <td>0</td>\n",
       "      <td>117.082</td>\n",
       "      <td>256.597658</td>\n",
       "      <td>283</td>\n",
       "    </tr>\n",
       "    <tr>\n",
       "      <th>2</th>\n",
       "      <td>2017-01-01</td>\n",
       "      <td>0.0</td>\n",
       "      <td>0</td>\n",
       "      <td>5</td>\n",
       "      <td>117.082</td>\n",
       "      <td>215.608560</td>\n",
       "      <td>389</td>\n",
       "    </tr>\n",
       "    <tr>\n",
       "      <th>3</th>\n",
       "      <td>2017-02-01</td>\n",
       "      <td>0.0</td>\n",
       "      <td>0</td>\n",
       "      <td>1</td>\n",
       "      <td>117.082</td>\n",
       "      <td>205.569618</td>\n",
       "      <td>1059</td>\n",
       "    </tr>\n",
       "    <tr>\n",
       "      <th>4</th>\n",
       "      <td>2017-03-01</td>\n",
       "      <td>0.0</td>\n",
       "      <td>0</td>\n",
       "      <td>2</td>\n",
       "      <td>117.082</td>\n",
       "      <td>201.265021</td>\n",
       "      <td>2157</td>\n",
       "    </tr>\n",
       "  </tbody>\n",
       "</table>\n",
       "</div>"
      ],
      "text/plain": [
       "  capture_date  category  code  common_day  liquid_cost       price  quantity\n",
       "0   2016-11-01       0.0     0           4      117.082  209.098118       881\n",
       "1   2016-12-01       0.0     0           0      117.082  256.597658       283\n",
       "2   2017-01-01       0.0     0           5      117.082  215.608560       389\n",
       "3   2017-02-01       0.0     0           1      117.082  205.569618      1059\n",
       "4   2017-03-01       0.0     0           2      117.082  201.265021      2157"
      ]
     },
     "metadata": {},
     "output_type": "display_data"
    }
   ],
   "source": [
    "monthly_results = pd.read_csv('monthly_results.csv')\n",
    "monthly_results.capture_date = (pd.to_datetime(monthly_results.capture_date, format='(%Y, %m)'))\n",
    "display(monthly_results.head(5))"
   ]
  },
  {
   "cell_type": "markdown",
   "metadata": {
    "collapsed": true
   },
   "source": [
    "Com os dados já considerados em base mensal, podemos desenhar os gráficos de vendas de alguns produtos no período considerado para confirmarmos que a transformação transcorreu com sucesso."
   ]
  },
  {
   "cell_type": "code",
   "execution_count": 18,
   "metadata": {},
   "outputs": [
    {
     "data": {
      "image/png": "[encoded data removed]",
      "text/plain": [
       "<matplotlib.figure.Figure at 0x7fd85e86ea90>"
      ]
     },
     "metadata": {},
     "output_type": "display_data"
    },
    {
     "data": {
      "image/png": "[encoded data removed]",
      "text/plain": [
       "<matplotlib.figure.Figure at 0x7fd85e86e320>"
      ]
     },
     "metadata": {},
     "output_type": "display_data"
    },
    {
     "data": {
      "image/png": "[encoded data removed]",
      "text/plain": [
       "<matplotlib.figure.Figure at 0x7fd863108780>"
      ]
     },
     "metadata": {},
     "output_type": "display_data"
    },
    {
     "data": {
      "image/png": "[encoded data removed]",
      "text/plain": [
       "<matplotlib.figure.Figure at 0x7fd85e886940>"
      ]
     },
     "metadata": {},
     "output_type": "display_data"
    },
    {
     "data": {
      "image/png": "[encoded data removed]",
      "text/plain": [
       "<matplotlib.figure.Figure at 0x7fd86313ccc0>"
      ]
     },
     "metadata": {},
     "output_type": "display_data"
    },
    {
     "data": {
      "image/png": "[encoded data removed]",
      "text/plain": [
       "<matplotlib.figure.Figure at 0x7fd8624c20f0>"
      ]
     },
     "metadata": {},
     "output_type": "display_data"
    },
    {
     "data": {
      "image/png": "[encoded data removed]",
      "text/plain": [
       "<matplotlib.figure.Figure at 0x7fd8635d4b00>"
      ]
     },
     "metadata": {},
     "output_type": "display_data"
    },
    {
     "data": {
      "image/png": "[encoded data removed]",
      "text/plain": [
       "<matplotlib.figure.Figure at 0x7fd85e86ea20>"
      ]
     },
     "metadata": {},
     "output_type": "display_data"
    },
    {
     "data": {
      "image/png": "[encoded data removed]",
      "text/plain": [
       "<matplotlib.figure.Figure at 0x7fd86356aef0>"
      ]
     },
     "metadata": {},
     "output_type": "display_data"
    },
    {
     "data": {
      "image/png": "[encoded data removed]",
      "text/plain": [
       "<matplotlib.figure.Figure at 0x7fd8634f0cf8>"
      ]
     },
     "metadata": {},
     "output_type": "display_data"
    },
    {
     "data": {
      "image/png": "[encoded data removed]",
      "text/plain": [
       "<matplotlib.figure.Figure at 0x7fd862fdefd0>"
      ]
     },
     "metadata": {},
     "output_type": "display_data"
    }
   ],
   "source": [
    "for n in range (0, 11):\n",
    "    code1 = monthly_results[monthly_results['code'] == n]\n",
    "    plt.plot(code1.capture_date, code1.quantity)\n",
    "    plt.show()"
   ]
  },
  {
   "cell_type": "markdown",
   "metadata": {},
   "source": [
    "Em todos os gráficos desenhados, vemos uma queda acentuada nas vendas para o mês 6 de 2017. Esse comportamento está relacionado ao fato de tal mês não ser representado em sua integridade. Uma opção para lidar com isso seria reprocessar as vendas com base no número de dias de cada mês, obtendo valores médios de vendas por dias. Porém a opção utilizada será desconsiderar o mês em questão por simplicidade. "
   ]
  },
  {
   "cell_type": "code",
   "execution_count": 19,
   "metadata": {
    "collapsed": true
   },
   "outputs": [],
   "source": [
    "#drops 06 as its not a full month\n",
    "monthly_results = monthly_results[monthly_results['capture_date'] != pd.to_datetime('2017-06-01')]"
   ]
  },
  {
   "cell_type": "markdown",
   "metadata": {},
   "source": [
    "Dependendo dos algoritmos de segregação e predição que formos utilizar, pode ser necessário tratarmos dos produtos que apresentam meses sem vendas, já que isso pode ter ocorrido tanto por ausência real de vendas desses produtos quanto por problemas na hora de criar o conjunto de dados original. Apesar de possuirmos muitas opções e ser uma decisão difícil, caso um produto não tenha entrada em um dado mês, a média (tanto para preço e custo quanto para quantidade) em todo o período será inserida para o mesmo"
   ]
  },
  {
   "cell_type": "code",
   "execution_count": 20,
   "metadata": {},
   "outputs": [
    {
     "data": {
      "text/html": [
       "<div>\n",
       "<style>\n",
       "    .dataframe thead tr:only-child th {\n",
       "        text-align: right;\n",
       "    }\n",
       "\n",
       "    .dataframe thead th {\n",
       "        text-align: left;\n",
       "    }\n",
       "\n",
       "    .dataframe tbody tr th {\n",
       "        vertical-align: top;\n",
       "    }\n",
       "</style>\n",
       "<table border=\"1\" class=\"dataframe\">\n",
       "  <thead>\n",
       "    <tr style=\"text-align: right;\">\n",
       "      <th></th>\n",
       "      <th>capture_date</th>\n",
       "      <th>category</th>\n",
       "      <th>code</th>\n",
       "      <th>common_day</th>\n",
       "      <th>liquid_cost</th>\n",
       "      <th>price</th>\n",
       "      <th>quantity</th>\n",
       "    </tr>\n",
       "  </thead>\n",
       "  <tbody>\n",
       "    <tr>\n",
       "      <th>0</th>\n",
       "      <td>2016-11-01</td>\n",
       "      <td>0.0</td>\n",
       "      <td>0</td>\n",
       "      <td>4</td>\n",
       "      <td>117.082</td>\n",
       "      <td>209.098118</td>\n",
       "      <td>881.0</td>\n",
       "    </tr>\n",
       "    <tr>\n",
       "      <th>1</th>\n",
       "      <td>2016-12-01</td>\n",
       "      <td>0.0</td>\n",
       "      <td>0</td>\n",
       "      <td>0</td>\n",
       "      <td>117.082</td>\n",
       "      <td>256.597658</td>\n",
       "      <td>283.0</td>\n",
       "    </tr>\n",
       "    <tr>\n",
       "      <th>2</th>\n",
       "      <td>2017-01-01</td>\n",
       "      <td>0.0</td>\n",
       "      <td>0</td>\n",
       "      <td>5</td>\n",
       "      <td>117.082</td>\n",
       "      <td>215.608560</td>\n",
       "      <td>389.0</td>\n",
       "    </tr>\n",
       "    <tr>\n",
       "      <th>3</th>\n",
       "      <td>2017-02-01</td>\n",
       "      <td>0.0</td>\n",
       "      <td>0</td>\n",
       "      <td>1</td>\n",
       "      <td>117.082</td>\n",
       "      <td>205.569618</td>\n",
       "      <td>1059.0</td>\n",
       "    </tr>\n",
       "    <tr>\n",
       "      <th>4</th>\n",
       "      <td>2017-03-01</td>\n",
       "      <td>0.0</td>\n",
       "      <td>0</td>\n",
       "      <td>2</td>\n",
       "      <td>117.082</td>\n",
       "      <td>201.265021</td>\n",
       "      <td>2157.0</td>\n",
       "    </tr>\n",
       "  </tbody>\n",
       "</table>\n",
       "</div>"
      ],
      "text/plain": [
       "  capture_date  category  code  common_day  liquid_cost       price  quantity\n",
       "0   2016-11-01       0.0     0           4      117.082  209.098118     881.0\n",
       "1   2016-12-01       0.0     0           0      117.082  256.597658     283.0\n",
       "2   2017-01-01       0.0     0           5      117.082  215.608560     389.0\n",
       "3   2017-02-01       0.0     0           1      117.082  205.569618    1059.0\n",
       "4   2017-03-01       0.0     0           2      117.082  201.265021    2157.0"
      ]
     },
     "metadata": {},
     "output_type": "display_data"
    }
   ],
   "source": [
    "period = []\n",
    "dates = ['(2016, 8)', '(2016, 9)', '(2016, 10)', '(2016, 11)', '(2016, 12)', '(2017, 1)', '(2017, 2)', '(2017, 3)', '(2017, 4)', '(2017, 5)']\n",
    "\n",
    "for date in dates:\n",
    "    period.append(pd.to_datetime(date, format='(%Y, %m)' ))\n",
    "\n",
    "period = pd.to_datetime(period, format='(%Y, %m)')\n",
    "\n",
    "complete = pd.DataFrame()\n",
    "\n",
    "for product_id in range(monthly_results.code.min(),  monthly_results.code.max() + 1):\n",
    "    grouped_id = monthly_results[monthly_results.apply(lambda x: x['code'] == product_id, axis=1)]\n",
    "    for month in period.values:\n",
    "        if month in grouped_id.capture_date.unique() :\n",
    "            pass\n",
    "        else:\n",
    "            missing = {'capture_date':month, 'category':grouped_id.category.max(), 'code': grouped_id.code.max(), \n",
    "                       'common_day':grouped_id.common_day.max(),'liquid_cost':grouped_id.liquid_cost.mean(), \n",
    "                       'price':grouped_id.price.mean(), 'quantity': grouped_id.quantity.mean()}\n",
    "            grouped_id = grouped_id.append(missing, ignore_index=True)\n",
    "    complete = complete.append(grouped_id, ignore_index = True)\n",
    "\n",
    "display(complete.head(5))\n",
    "complete.to_csv('complete.csv')\n"
   ]
  },
  {
   "cell_type": "markdown",
   "metadata": {},
   "source": [
    "Como a venda de muitos produtos pode estar muito relacionada ao seu preço, é interessante adicionarmos parâmetros de correlação entre preço e unidades vendidas. Além disso, também podemos inserir informações sobre a correlação entre o dia da semana em que a venda foi mais recorrente com o número de vendas. "
   ]
  },
  {
   "cell_type": "code",
   "execution_count": 21,
   "metadata": {},
   "outputs": [
    {
     "data": {
      "text/html": [
       "<div>\n",
       "<style>\n",
       "    .dataframe thead tr:only-child th {\n",
       "        text-align: right;\n",
       "    }\n",
       "\n",
       "    .dataframe thead th {\n",
       "        text-align: left;\n",
       "    }\n",
       "\n",
       "    .dataframe tbody tr th {\n",
       "        vertical-align: top;\n",
       "    }\n",
       "</style>\n",
       "<table border=\"1\" class=\"dataframe\">\n",
       "  <thead>\n",
       "    <tr style=\"text-align: right;\">\n",
       "      <th></th>\n",
       "      <th>code</th>\n",
       "      <th>common_day_corr</th>\n",
       "      <th>price_corr</th>\n",
       "    </tr>\n",
       "  </thead>\n",
       "  <tbody>\n",
       "    <tr>\n",
       "      <th>0</th>\n",
       "      <td>0</td>\n",
       "      <td>-0.160963</td>\n",
       "      <td>-0.660029</td>\n",
       "    </tr>\n",
       "    <tr>\n",
       "      <th>1</th>\n",
       "      <td>1</td>\n",
       "      <td>0.546023</td>\n",
       "      <td>-0.165227</td>\n",
       "    </tr>\n",
       "    <tr>\n",
       "      <th>2</th>\n",
       "      <td>2</td>\n",
       "      <td>-0.916250</td>\n",
       "      <td>-0.757843</td>\n",
       "    </tr>\n",
       "    <tr>\n",
       "      <th>3</th>\n",
       "      <td>3</td>\n",
       "      <td>0.044974</td>\n",
       "      <td>0.371437</td>\n",
       "    </tr>\n",
       "    <tr>\n",
       "      <th>4</th>\n",
       "      <td>4</td>\n",
       "      <td>0.155450</td>\n",
       "      <td>-0.206817</td>\n",
       "    </tr>\n",
       "  </tbody>\n",
       "</table>\n",
       "</div>"
      ],
      "text/plain": [
       "   code  common_day_corr  price_corr\n",
       "0     0        -0.160963   -0.660029\n",
       "1     1         0.546023   -0.165227\n",
       "2     2        -0.916250   -0.757843\n",
       "3     3         0.044974    0.371437\n",
       "4     4         0.155450   -0.206817"
      ]
     },
     "metadata": {},
     "output_type": "display_data"
    }
   ],
   "source": [
    "features =[]\n",
    "for product_id in range(monthly_results.code.min(),  monthly_results.code.max() + 1 ):\n",
    "    \n",
    "    grouped_id = monthly_results[monthly_results.apply(lambda x: x['code'] == product_id, axis=1)]\n",
    "    price_corr = grouped_id.price.corr(grouped_id.quantity)\n",
    "    common_day_corr = grouped_id.common_day.corr(grouped_id.quantity)\n",
    "    #print('> completed:{0:.2f}'.format(product_id/(monthly_results.code.max() + 1)))\n",
    "    result = {'code': product_id, 'price_corr': price_corr,'common_day_corr': common_day_corr}\n",
    "    features.append(result)\n",
    "\n",
    "features = pd.DataFrame(features)\n",
    "\n",
    "display(features.head(5))"
   ]
  },
  {
   "cell_type": "markdown",
   "metadata": {},
   "source": [
    "## Segmentação dos dados\n",
    "Para realizarmos a segmentação dos dados em grupos, é importante entendermos que o comportamento das vendas dos mesmos pode ser relacionado por uma série temporal. Tal série temporal mostra claramente um comportamento sazonal, porém não mostra tão bem uma alta correlação com o preço. Portanto, precisamos utilizar todos os atributos que já discutimos para fazer a segregação. Logo, precisamos apenas calcular a semelhança entre as séries temporais para termos todos os elementos de separação."
   ]
  },
  {
   "cell_type": "markdown",
   "metadata": {},
   "source": [
    "### Segregação de Séries Temporais"
   ]
  },
  {
   "cell_type": "markdown",
   "metadata": {},
   "source": [
    "Para diferenciarmos os produtos em seus comportamentos temporais, podemos utilizar algumas estratégias, das quais duas se destacam:\n",
    "    - Cálculo das diferenças entre as vendas dos produtos para séries alinhadas: nesse caso, precisamos utilizar os dados com os meses sem dados compostos pelas médias, conforme fizemos anteriormente. A vantagem desse método é que cobrimos eventuais erros na aquisição dos dados, sendo que a desvantagem é que se esses vazios não forem erros, teremos resultados acima do real. Para sse método, podemos utilizar o cálculo pelo algoritmo de k-vizinhos mais próximos, disponível na biblioteca scikit-learn;\n",
    "    - Cálculo das diferenças entre as vendas dos produtos para séries desalinhadas:  com essa estratégia não precisamos compensar pelos meses que faltam. Essa estratégia utiliza um método de Dynamic Time Warping.\n",
    "Após calcular as diferenças entre as séries, podemos seprar em conjutos as séries com maior semelhança, ou seja, processamos os resultados das distâncias e agrupamos os produtos cujas distâncias entre si sejam as menores;\n",
    "    - Uso de HMM(Hidden-Markov-Models: modelos escondidos de markov): essa estratégia é geralmente utilizada para segregar e classificar estruturas intrinsicamente conectadas a linguagens, porém pode ser aplicada para séries temporais, já que é capaz de mapear muito bem transições de estados e comportamentos recorrentes. Essa técnica funciona criando um modelo probabilístico composto por diversos estados, onde atributos do fenômeno observado fazem com que o modelo transite de um estado para outro, até que todos os atributos sejam considerados e um resultado obtido. \n",
    "\n",
    "Para todas as estratégias, é importante normalizarmos as quantidades de venda antes da aplicação. Fazendo isso, nosso algoritmo será capaz de identificar semelhanças entre produtos que, embora igualmente sazonais, tenham números absolutos de vendas muito distintos.\n",
    "\n",
    "Apesar de todas as estratégias serem válidas, nesse trabalho consideraremos a utilizando Dynamic Time Warping."
   ]
  },
  {
   "cell_type": "code",
   "execution_count": 22,
   "metadata": {},
   "outputs": [],
   "source": [
    "distances_global =[]\n",
    "#for product_id in range(complete.code.min(), complete.code.max() + 1 ):\n",
    "    #distances_prod = []\n",
    "    #grouped_id = complete[complete.apply(lambda x: x['code'] == product_id, axis=1)]\n",
    "    #should run in parallel\n",
    "    #for other in range(complete.code.min(), complete.code.max() + 1 ):\n",
    "        #if other != product_id:#should nest\n",
    "            #grouped_other = complete[complete.apply(lambda x: x['code'] == other, axis=1)]\n",
    "            #distances_prod.append(DTWDistance(grouped_id.quantity.tolist(),grouped_other.quantity.tolist() ))\n",
    "    #distances_global.append(distances_prod)"
   ]
  },
  {
   "cell_type": "markdown",
   "metadata": {},
   "source": [
    "Com os grupos devidamente segregados, podemos utilizar o algoritmo de Clusterização Aglomerativa disponível na biblioteca Scikit-learn(http://scikit-learn.org/stable/modules/generated/sklearn.cluster.AgglomerativeClustering.html) para considerar nosso conjunto de atributos. "
   ]
  }
 ],
 "metadata": {
  "kernelspec": {
   "display_name": "Python 3",
   "language": "python",
   "name": "python3"
  },
  "language_info": {
   "codemirror_mode": {
    "name": "ipython",
    "version": 3
   },
   "file_extension": ".py",
   "mimetype": "text/x-python",
   "name": "python",
   "nbconvert_exporter": "python",
   "pygments_lexer": "ipython3",
   "version": "3.6.2"
  }
 },
 "nbformat": 4,
 "nbformat_minor": 2
}
